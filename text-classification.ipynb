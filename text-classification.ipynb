{
 "cells": [
  {
   "cell_type": "markdown",
   "metadata": {
    "papermill": {
     "duration": 0.014681,
     "end_time": "2020-10-01T00:25:16.793588",
     "exception": false,
     "start_time": "2020-10-01T00:25:16.778907",
     "status": "completed"
    },
    "tags": []
   },
   "source": [
    "# Text Classification with SpaCy\n",
    "\n",
    "A common task in NLP is **text classification**. This is \"classification\" in the conventional machine learning sense, and it is applied to text. Examples include spam detection, sentiment analysis, and tagging customer queries. \n",
    "\n",
    "In this tutorial, you'll learn text classification with spaCy. The classifier will detect spam messages, a common functionality in most email clients. Here is an overview of the data you'll use:"
   ]
  },
  {
   "cell_type": "code",
   "execution_count": 1,
   "metadata": {
    "execution": {
     "iopub.execute_input": "2020-10-01T00:25:16.828466Z",
     "iopub.status.busy": "2020-10-01T00:25:16.827870Z",
     "iopub.status.idle": "2020-10-01T00:25:16.858775Z",
     "shell.execute_reply": "2020-10-01T00:25:16.859113Z"
    },
    "papermill": {
     "duration": 0.051892,
     "end_time": "2020-10-01T00:25:16.859253",
     "exception": false,
     "start_time": "2020-10-01T00:25:16.807361",
     "status": "completed"
    },
    "tags": []
   },
   "outputs": [
    {
     "data": {
      "text/html": [
       "<div>\n",
       "<style scoped>\n",
       "    .dataframe tbody tr th:only-of-type {\n",
       "        vertical-align: middle;\n",
       "    }\n",
       "\n",
       "    .dataframe tbody tr th {\n",
       "        vertical-align: top;\n",
       "    }\n",
       "\n",
       "    .dataframe thead th {\n",
       "        text-align: right;\n",
       "    }\n",
       "</style>\n",
       "<table border=\"1\" class=\"dataframe\">\n",
       "  <thead>\n",
       "    <tr style=\"text-align: right;\">\n",
       "      <th></th>\n",
       "      <th>label</th>\n",
       "      <th>text</th>\n",
       "    </tr>\n",
       "  </thead>\n",
       "  <tbody>\n",
       "    <tr>\n",
       "      <th>0</th>\n",
       "      <td>ham</td>\n",
       "      <td>Go until jurong point, crazy.. Available only ...</td>\n",
       "    </tr>\n",
       "    <tr>\n",
       "      <th>1</th>\n",
       "      <td>ham</td>\n",
       "      <td>Ok lar... Joking wif u oni...</td>\n",
       "    </tr>\n",
       "    <tr>\n",
       "      <th>2</th>\n",
       "      <td>spam</td>\n",
       "      <td>Free entry in 2 a wkly comp to win FA Cup fina...</td>\n",
       "    </tr>\n",
       "    <tr>\n",
       "      <th>3</th>\n",
       "      <td>ham</td>\n",
       "      <td>U dun say so early hor... U c already then say...</td>\n",
       "    </tr>\n",
       "    <tr>\n",
       "      <th>4</th>\n",
       "      <td>ham</td>\n",
       "      <td>Nah I don't think he goes to usf, he lives aro...</td>\n",
       "    </tr>\n",
       "    <tr>\n",
       "      <th>5</th>\n",
       "      <td>spam</td>\n",
       "      <td>FreeMsg Hey there darling it's been 3 week's n...</td>\n",
       "    </tr>\n",
       "    <tr>\n",
       "      <th>6</th>\n",
       "      <td>ham</td>\n",
       "      <td>Even my brother is not like to speak with me. ...</td>\n",
       "    </tr>\n",
       "    <tr>\n",
       "      <th>7</th>\n",
       "      <td>ham</td>\n",
       "      <td>As per your request 'Melle Melle (Oru Minnamin...</td>\n",
       "    </tr>\n",
       "    <tr>\n",
       "      <th>8</th>\n",
       "      <td>spam</td>\n",
       "      <td>WINNER!! As a valued network customer you have...</td>\n",
       "    </tr>\n",
       "    <tr>\n",
       "      <th>9</th>\n",
       "      <td>spam</td>\n",
       "      <td>Had your mobile 11 months or more? U R entitle...</td>\n",
       "    </tr>\n",
       "  </tbody>\n",
       "</table>\n",
       "</div>"
      ],
      "text/plain": [
       "  label                                               text\n",
       "0   ham  Go until jurong point, crazy.. Available only ...\n",
       "1   ham                      Ok lar... Joking wif u oni...\n",
       "2  spam  Free entry in 2 a wkly comp to win FA Cup fina...\n",
       "3   ham  U dun say so early hor... U c already then say...\n",
       "4   ham  Nah I don't think he goes to usf, he lives aro...\n",
       "5  spam  FreeMsg Hey there darling it's been 3 week's n...\n",
       "6   ham  Even my brother is not like to speak with me. ...\n",
       "7   ham  As per your request 'Melle Melle (Oru Minnamin...\n",
       "8  spam  WINNER!! As a valued network customer you have...\n",
       "9  spam  Had your mobile 11 months or more? U R entitle..."
      ]
     },
     "execution_count": 1,
     "metadata": {},
     "output_type": "execute_result"
    }
   ],
   "source": [
    "import pandas as pd\n",
    "\n",
    "# Loading the spam data\n",
    "# ham is the label for non-spam messages\n",
    "spam = pd.read_csv('../input/nlp-course/spam.csv')\n",
    "spam.head(10)"
   ]
  },
  {
   "cell_type": "markdown",
   "metadata": {
    "papermill": {
     "duration": 0.009321,
     "end_time": "2020-10-01T00:25:16.878784",
     "exception": false,
     "start_time": "2020-10-01T00:25:16.869463",
     "status": "completed"
    },
    "tags": []
   },
   "source": [
    "# Bag of Words\n",
    "Machine learning models don't learn from raw text data. Instead, you need to convert the text to something numeric.\n",
    "\n",
    "The simplest common representation is a variation of one-hot encoding. You represent each document as a vector of term frequencies for each term in the vocabulary. The vocabulary is built from all the tokens (terms) in the corpus (the collection of documents). \n",
    "\n",
    "As an example, take the sentences \"Tea is life. Tea is love.\" and \"Tea is healthy, calming, and delicious.\" as our corpus. The vocabulary then is `{\"tea\", \"is\", \"life\", \"love\", \"healthy\", \"calming\", \"and\", \"delicious\"}` (ignoring punctuation).\n",
    "\n",
    "For each document, count up how many times a term occurs, and place that count in the appropriate element of a vector. The first sentence has \"tea\" twice and that is the first position in our vocabulary, so we put the number 2 in the first element of the vector. Our sentences as vectors then look like \n",
    "\n",
    "$$\n",
    "\\begin{align}\n",
    "v_1 &= \\left[\\begin{matrix} 2 & 2 & 1 & 1 & 0 & 0 & 0 & 0 \\end{matrix}\\right] \\\\\n",
    "v_2 &= \\left[\\begin{matrix} 1 & 1 & 0 & 0 & 1 & 1 & 1 & 1 \\end{matrix}\\right]\n",
    "\\end{align}\n",
    "$$\n",
    "\n",
    "This is called the **bag of words** representation. You can see that documents with similar terms will have similar vectors. Vocabularies frequently have tens of thousands of terms, so these vectors can be very large.\n",
    "\n",
    "Another common representation is **TF-IDF (Term Frequency - Inverse Document Frequency)**. TF-IDF is similar to bag of words except that each term count is scaled by the term's frequency in the corpus. Using TF-IDF can potentially improve your models. You won't need it here. Feel free to look it up though!"
   ]
  },
  {
   "cell_type": "markdown",
   "metadata": {
    "papermill": {
     "duration": 0.009227,
     "end_time": "2020-10-01T00:25:16.897482",
     "exception": false,
     "start_time": "2020-10-01T00:25:16.888255",
     "status": "completed"
    },
    "tags": []
   },
   "source": [
    "# Building a Bag of Words model\n",
    "\n",
    "Once you have your documents in a bag of words representation, you can use those vectors as input to any machine learning model. spaCy handles the bag of words conversion and building a simple linear model for you with the `TextCategorizer` class.\n",
    "\n",
    "The TextCategorizer is a spaCy **pipe**. Pipes are classes for processing and transforming tokens. When you create a spaCy model with `nlp = spacy.load('en_core_web_sm')`, there are default pipes that perform part of speech tagging, entity recognition, and other transformations. When you run text through a model `doc = nlp(\"Some text here\")`, the output of the pipes are attached to the tokens in the `doc` object. The lemmas for `token.lemma_` come from one of these pipes.\n",
    "\n",
    "You can remove or add pipes to models. What we'll do here is create an empty model without any pipes (other than a tokenizer, since all models always have a tokenizer). Then, we'll create a TextCategorizer pipe and add it to the empty model."
   ]
  },
  {
   "cell_type": "code",
   "execution_count": 2,
   "metadata": {
    "execution": {
     "iopub.execute_input": "2020-10-01T00:25:16.923151Z",
     "iopub.status.busy": "2020-10-01T00:25:16.922705Z",
     "iopub.status.idle": "2020-10-01T00:25:17.945894Z",
     "shell.execute_reply": "2020-10-01T00:25:17.946277Z"
    },
    "papermill": {
     "duration": 1.038362,
     "end_time": "2020-10-01T00:25:17.946388",
     "exception": false,
     "start_time": "2020-10-01T00:25:16.908026",
     "status": "completed"
    },
    "tags": []
   },
   "outputs": [],
   "source": [
    "import spacy\n",
    "\n",
    "# Create an empty model\n",
    "nlp = spacy.blank(\"en\")\n",
    "\n",
    "# Create the TextCategorizer with exclusive classes and \"bow\" architecture\n",
    "textcat = nlp.create_pipe(\n",
    "              \"textcat\",\n",
    "              config={\n",
    "                \"exclusive_classes\": True,\n",
    "                \"architecture\": \"bow\"})\n",
    "\n",
    "# Add the TextCategorizer to the empty model\n",
    "nlp.add_pipe(textcat)"
   ]
  },
  {
   "cell_type": "markdown",
   "metadata": {
    "papermill": {
     "duration": 0.009615,
     "end_time": "2020-10-01T00:25:17.966137",
     "exception": false,
     "start_time": "2020-10-01T00:25:17.956522",
     "status": "completed"
    },
    "tags": []
   },
   "source": [
    "Since the classes are either ham or spam, we set `\"exclusive_classes\"` to `True`. We've also configured it with the bag of words (`\"bow\"`) architecture. spaCy provides a convolutional neural network architecture as well, but it's more complex than you need for now.\n",
    "\n",
    "Next we'll add the labels to the model. Here \"ham\" are for the real messages, \"spam\" are spam messages."
   ]
  },
  {
   "cell_type": "code",
   "execution_count": 3,
   "metadata": {
    "execution": {
     "iopub.execute_input": "2020-10-01T00:25:17.993969Z",
     "iopub.status.busy": "2020-10-01T00:25:17.993416Z",
     "iopub.status.idle": "2020-10-01T00:25:17.996661Z",
     "shell.execute_reply": "2020-10-01T00:25:17.997005Z"
    },
    "papermill": {
     "duration": 0.021309,
     "end_time": "2020-10-01T00:25:17.997094",
     "exception": false,
     "start_time": "2020-10-01T00:25:17.975785",
     "status": "completed"
    },
    "tags": []
   },
   "outputs": [
    {
     "data": {
      "text/plain": [
       "1"
      ]
     },
     "execution_count": 3,
     "metadata": {},
     "output_type": "execute_result"
    }
   ],
   "source": [
    "# Add labels to text classifier\n",
    "textcat.add_label(\"ham\")\n",
    "textcat.add_label(\"spam\")"
   ]
  },
  {
   "cell_type": "markdown",
   "metadata": {
    "papermill": {
     "duration": 0.009773,
     "end_time": "2020-10-01T00:25:18.017050",
     "exception": false,
     "start_time": "2020-10-01T00:25:18.007277",
     "status": "completed"
    },
    "tags": []
   },
   "source": [
    "# Training a Text Categorizer Model\n",
    "\n",
    "Next, you'll convert the labels in the data to the form TextCategorizer requires. For each document, you'll create a dictionary of boolean values for each class. \n",
    "\n",
    "For example, if a text is \"ham\", we need a dictionary `{'ham': True, 'spam': False}`. The model is looking for these labels inside another dictionary with the key `'cats'`."
   ]
  },
  {
   "cell_type": "code",
   "execution_count": 4,
   "metadata": {
    "execution": {
     "iopub.execute_input": "2020-10-01T00:25:18.045269Z",
     "iopub.status.busy": "2020-10-01T00:25:18.044785Z",
     "iopub.status.idle": "2020-10-01T00:25:18.047449Z",
     "shell.execute_reply": "2020-10-01T00:25:18.047060Z"
    },
    "papermill": {
     "duration": 0.020529,
     "end_time": "2020-10-01T00:25:18.047527",
     "exception": false,
     "start_time": "2020-10-01T00:25:18.026998",
     "status": "completed"
    },
    "tags": []
   },
   "outputs": [],
   "source": [
    "train_texts = spam['text'].values\n",
    "train_labels = [{'cats': {'ham': label == 'ham',\n",
    "                          'spam': label == 'spam'}} \n",
    "                for label in spam['label']]"
   ]
  },
  {
   "cell_type": "markdown",
   "metadata": {
    "papermill": {
     "duration": 0.01002,
     "end_time": "2020-10-01T00:25:18.068898",
     "exception": false,
     "start_time": "2020-10-01T00:25:18.058878",
     "status": "completed"
    },
    "tags": []
   },
   "source": [
    "Then we combine the texts and labels into a single list."
   ]
  },
  {
   "cell_type": "code",
   "execution_count": 5,
   "metadata": {
    "execution": {
     "iopub.execute_input": "2020-10-01T00:25:18.094720Z",
     "iopub.status.busy": "2020-10-01T00:25:18.094142Z",
     "iopub.status.idle": "2020-10-01T00:25:18.098561Z",
     "shell.execute_reply": "2020-10-01T00:25:18.098065Z"
    },
    "papermill": {
     "duration": 0.019446,
     "end_time": "2020-10-01T00:25:18.098648",
     "exception": false,
     "start_time": "2020-10-01T00:25:18.079202",
     "status": "completed"
    },
    "tags": []
   },
   "outputs": [
    {
     "data": {
      "text/plain": [
       "[('Go until jurong point, crazy.. Available only in bugis n great world la e buffet... Cine there got amore wat...',\n",
       "  {'cats': {'ham': True, 'spam': False}}),\n",
       " ('Ok lar... Joking wif u oni...', {'cats': {'ham': True, 'spam': False}}),\n",
       " (\"Free entry in 2 a wkly comp to win FA Cup final tkts 21st May 2005. Text FA to 87121 to receive entry question(std txt rate)T&C's apply 08452810075over18's\",\n",
       "  {'cats': {'ham': False, 'spam': True}})]"
      ]
     },
     "execution_count": 5,
     "metadata": {},
     "output_type": "execute_result"
    }
   ],
   "source": [
    "train_data = list(zip(train_texts, train_labels))\n",
    "train_data[:3]"
   ]
  },
  {
   "cell_type": "markdown",
   "metadata": {
    "papermill": {
     "duration": 0.010242,
     "end_time": "2020-10-01T00:25:18.119743",
     "exception": false,
     "start_time": "2020-10-01T00:25:18.109501",
     "status": "completed"
    },
    "tags": []
   },
   "source": [
    "Now you are ready to train the model. First, create an `optimizer` using `nlp.begin_training()`. spaCy uses this optimizer to update the model. In general it's more efficient to train models in small batches. spaCy provides the `minibatch` function that returns a generator yielding minibatches for training. Finally, the minibatches are split into texts and labels, then used with `nlp.update` to update the model's parameters."
   ]
  },
  {
   "cell_type": "code",
   "execution_count": 6,
   "metadata": {
    "execution": {
     "iopub.execute_input": "2020-10-01T00:25:18.167617Z",
     "iopub.status.busy": "2020-10-01T00:25:18.162163Z",
     "iopub.status.idle": "2020-10-01T00:25:24.314927Z",
     "shell.execute_reply": "2020-10-01T00:25:24.314527Z"
    },
    "papermill": {
     "duration": 6.184533,
     "end_time": "2020-10-01T00:25:24.315013",
     "exception": false,
     "start_time": "2020-10-01T00:25:18.130480",
     "status": "completed"
    },
    "tags": []
   },
   "outputs": [],
   "source": [
    "from spacy.util import minibatch\n",
    "\n",
    "spacy.util.fix_random_seed(1)\n",
    "optimizer = nlp.begin_training()\n",
    "\n",
    "# Create the batch generator with batch size = 8\n",
    "batches = minibatch(train_data, size=8)\n",
    "# Iterate through minibatches\n",
    "for batch in batches:\n",
    "    # Each batch is a list of (text, label) but we need to\n",
    "    # send separate lists for texts and labels to update().\n",
    "    # This is a quick way to split a list of tuples into lists\n",
    "    texts, labels = zip(*batch)\n",
    "    nlp.update(texts, labels, sgd=optimizer)"
   ]
  },
  {
   "cell_type": "markdown",
   "metadata": {
    "papermill": {
     "duration": 0.010833,
     "end_time": "2020-10-01T00:25:24.337103",
     "exception": false,
     "start_time": "2020-10-01T00:25:24.326270",
     "status": "completed"
    },
    "tags": []
   },
   "source": [
    "This is just one training loop (or epoch) through the data. The model will typically need multiple epochs. Use another loop for more epochs, and optionally re-shuffle the training data at the begining of each loop. "
   ]
  },
  {
   "cell_type": "code",
   "execution_count": 7,
   "metadata": {
    "execution": {
     "iopub.execute_input": "2020-10-01T00:25:24.376036Z",
     "iopub.status.busy": "2020-10-01T00:25:24.365879Z",
     "iopub.status.idle": "2020-10-01T00:26:25.263123Z",
     "shell.execute_reply": "2020-10-01T00:26:25.263646Z"
    },
    "papermill": {
     "duration": 60.915928,
     "end_time": "2020-10-01T00:26:25.263770",
     "exception": false,
     "start_time": "2020-10-01T00:25:24.347842",
     "status": "completed"
    },
    "tags": []
   },
   "outputs": [
    {
     "name": "stdout",
     "output_type": "stream",
     "text": [
      "{'textcat': 0.4318974167265992}\n",
      "{'textcat': 0.6474976181863781}\n",
      "{'textcat': 0.7842154461214998}\n",
      "{'textcat': 0.871668362447247}\n",
      "{'textcat': 0.9280939224368301}\n",
      "{'textcat': 0.9655779806546522}\n",
      "{'textcat': 0.9939651735123619}\n",
      "{'textcat': 1.012797652103156}\n",
      "{'textcat': 1.0275637693323}\n",
      "{'textcat': 1.0378531328161298}\n"
     ]
    }
   ],
   "source": [
    "import random\n",
    "\n",
    "random.seed(1)\n",
    "spacy.util.fix_random_seed(1)\n",
    "optimizer = nlp.begin_training()\n",
    "\n",
    "losses = {}\n",
    "for epoch in range(10):\n",
    "    random.shuffle(train_data)\n",
    "    # Create the batch generator with batch size = 8\n",
    "    batches = minibatch(train_data, size=8)\n",
    "    # Iterate through minibatches\n",
    "    for batch in batches:\n",
    "        # Each batch is a list of (text, label) but we need to\n",
    "        # send separate lists for texts and labels to update().\n",
    "        # This is a quick way to split a list of tuples into lists\n",
    "        texts, labels = zip(*batch)\n",
    "        nlp.update(texts, labels, sgd=optimizer, losses=losses)\n",
    "    print(losses)"
   ]
  },
  {
   "cell_type": "markdown",
   "metadata": {
    "papermill": {
     "duration": 0.014724,
     "end_time": "2020-10-01T00:26:25.296105",
     "exception": false,
     "start_time": "2020-10-01T00:26:25.281381",
     "status": "completed"
    },
    "tags": []
   },
   "source": [
    "# Making Predictions"
   ]
  },
  {
   "cell_type": "markdown",
   "metadata": {
    "papermill": {
     "duration": 0.012969,
     "end_time": "2020-10-01T00:26:25.322341",
     "exception": false,
     "start_time": "2020-10-01T00:26:25.309372",
     "status": "completed"
    },
    "tags": []
   },
   "source": [
    "Now that you have a trained model, you can make predictions with the `predict()` method. The input text needs to be tokenized with `nlp.tokenizer`. Then you pass the tokens to the predict method which returns scores. The scores are the probability the input text belongs to the classes."
   ]
  },
  {
   "cell_type": "code",
   "execution_count": 8,
   "metadata": {
    "execution": {
     "iopub.execute_input": "2020-10-01T00:26:25.355859Z",
     "iopub.status.busy": "2020-10-01T00:26:25.355230Z",
     "iopub.status.idle": "2020-10-01T00:26:25.359415Z",
     "shell.execute_reply": "2020-10-01T00:26:25.358924Z"
    },
    "papermill": {
     "duration": 0.023983,
     "end_time": "2020-10-01T00:26:25.359485",
     "exception": false,
     "start_time": "2020-10-01T00:26:25.335502",
     "status": "completed"
    },
    "tags": []
   },
   "outputs": [
    {
     "name": "stdout",
     "output_type": "stream",
     "text": [
      "[[9.9994397e-01 5.6023764e-05]\n",
      " [1.1491313e-02 9.8850864e-01]]\n"
     ]
    }
   ],
   "source": [
    "texts = [\"Are you ready for the tea party????? It's gonna be wild\",\n",
    "         \"URGENT Reply to this message for GUARANTEED FREE TEA\" ]\n",
    "docs = [nlp.tokenizer(text) for text in texts]\n",
    "    \n",
    "# Use textcat to get the scores for each doc\n",
    "textcat = nlp.get_pipe('textcat')\n",
    "scores, _ = textcat.predict(docs)\n",
    "\n",
    "print(scores)"
   ]
  },
  {
   "cell_type": "markdown",
   "metadata": {
    "papermill": {
     "duration": 0.013451,
     "end_time": "2020-10-01T00:26:25.386398",
     "exception": false,
     "start_time": "2020-10-01T00:26:25.372947",
     "status": "completed"
    },
    "tags": []
   },
   "source": [
    "The scores are used to predict a single class or label by choosing the label with the highest probability. You get the index of the highest probability with `scores.argmax`, then use the index to get the label string from `textcat.labels`."
   ]
  },
  {
   "cell_type": "code",
   "execution_count": 9,
   "metadata": {
    "execution": {
     "iopub.execute_input": "2020-10-01T00:26:25.417635Z",
     "iopub.status.busy": "2020-10-01T00:26:25.417093Z",
     "iopub.status.idle": "2020-10-01T00:26:25.420951Z",
     "shell.execute_reply": "2020-10-01T00:26:25.420581Z"
    },
    "papermill": {
     "duration": 0.021023,
     "end_time": "2020-10-01T00:26:25.421020",
     "exception": false,
     "start_time": "2020-10-01T00:26:25.399997",
     "status": "completed"
    },
    "tags": []
   },
   "outputs": [
    {
     "name": "stdout",
     "output_type": "stream",
     "text": [
      "['ham', 'spam']\n"
     ]
    }
   ],
   "source": [
    "# From the scores, find the label with the highest score/probability\n",
    "predicted_labels = scores.argmax(axis=1)\n",
    "print([textcat.labels[label] for label in predicted_labels])"
   ]
  },
  {
   "cell_type": "markdown",
   "metadata": {
    "papermill": {
     "duration": 0.01412,
     "end_time": "2020-10-01T00:26:25.449125",
     "exception": false,
     "start_time": "2020-10-01T00:26:25.435005",
     "status": "completed"
    },
    "tags": []
   },
   "source": [
    "Evaluating the model is straightforward once you have the predictions. To measure the accuracy, calculate how many correct predictions are made on some test data, divided by the total number of predictions."
   ]
  },
  {
   "cell_type": "markdown",
   "metadata": {
    "papermill": {
     "duration": 0.01358,
     "end_time": "2020-10-01T00:26:25.476467",
     "exception": false,
     "start_time": "2020-10-01T00:26:25.462887",
     "status": "completed"
    },
    "tags": []
   },
   "source": [
    "# Your Turn\n",
    "Try it yourself as you **[predict the sentiment of Yelp reviews](https://www.kaggle.com/kernels/fork/6061027)**."
   ]
  },
  {
   "cell_type": "markdown",
   "metadata": {
    "papermill": {
     "duration": 0.013456,
     "end_time": "2020-10-01T00:26:25.503753",
     "exception": false,
     "start_time": "2020-10-01T00:26:25.490297",
     "status": "completed"
    },
    "tags": []
   },
   "source": [
    "---\n",
    "\n",
    "\n",
    "\n",
    "\n",
    "*Have questions or comments? Visit the [Learn Discussion forum](https://www.kaggle.com/learn-forum/161466) to chat with other Learners.*"
   ]
  }
 ],
 "metadata": {
  "kernelspec": {
   "display_name": "Python 3",
   "language": "python",
   "name": "python3"
  },
  "language_info": {
   "codemirror_mode": {
    "name": "ipython",
    "version": 3
   },
   "file_extension": ".py",
   "mimetype": "text/x-python",
   "name": "python",
   "nbconvert_exporter": "python",
   "pygments_lexer": "ipython3",
   "version": "3.8.5"
  },
  "papermill": {
   "duration": 73.110359,
   "end_time": "2020-10-01T00:26:25.622657",
   "environment_variables": {},
   "exception": null,
   "input_path": "__notebook__.ipynb",
   "output_path": "__notebook__.ipynb",
   "parameters": {},
   "start_time": "2020-10-01T00:25:12.512298",
   "version": "2.1.0"
  }
 },
 "nbformat": 4,
 "nbformat_minor": 4
}
